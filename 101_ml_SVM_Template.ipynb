{
  "nbformat": 4,
  "nbformat_minor": 0,
  "metadata": {
    "colab": {
      "name": "101_ml_SVM_Template.ipynb",
      "provenance": [],
      "authorship_tag": "ABX9TyPGHdmqMilNOPk/gEj28Hli"
    },
    "kernelspec": {
      "name": "python3",
      "display_name": "Python 3"
    }
  },
  "cells": [
    {
      "cell_type": "code",
      "metadata": {
        "id": "LCOxmLaxV7rF",
        "colab_type": "code",
        "colab": {}
      },
      "source": [
        "from sklearn import metrics\n",
        "from sklearn import datasets\n",
        "import pylab as pl #chart lib\n",
        "import pandas as pd\n",
        "import numpy as np"
      ],
      "execution_count": 0,
      "outputs": []
    },
    {
      "cell_type": "code",
      "metadata": {
        "id": "HkYc0H1KWAZH",
        "colab_type": "code",
        "colab": {}
      },
      "source": [
        "#Lets use Iris Dataset (So Famous!)\n",
        "iris = datasets.load_iris()"
      ],
      "execution_count": 0,
      "outputs": []
    },
    {
      "cell_type": "code",
      "metadata": {
        "id": "Ax5B4npoWBAj",
        "colab_type": "code",
        "colab": {}
      },
      "source": [
        "#converting to dataframe format\n",
        "df_iris = pd.DataFrame(data=np.c_[iris['data'],iris['target']], columns=iris['feature_names'] + ['target'])"
      ],
      "execution_count": 0,
      "outputs": []
    },
    {
      "cell_type": "code",
      "metadata": {
        "id": "VZ2apP_QWDaG",
        "colab_type": "code",
        "colab": {
          "base_uri": "https://localhost:8080/",
          "height": 235
        },
        "outputId": "c235c3e1-2209-4639-9418-a3a840e584bc"
      },
      "source": [
        "#checking dataset\n",
        "print(df_iris.head(10))"
      ],
      "execution_count": 4,
      "outputs": [
        {
          "output_type": "stream",
          "text": [
            "   sepal length (cm)  sepal width (cm)  ...  petal width (cm)  target\n",
            "0                5.1               3.5  ...               0.2     0.0\n",
            "1                4.9               3.0  ...               0.2     0.0\n",
            "2                4.7               3.2  ...               0.2     0.0\n",
            "3                4.6               3.1  ...               0.2     0.0\n",
            "4                5.0               3.6  ...               0.2     0.0\n",
            "5                5.4               3.9  ...               0.4     0.0\n",
            "6                4.6               3.4  ...               0.3     0.0\n",
            "7                5.0               3.4  ...               0.2     0.0\n",
            "8                4.4               2.9  ...               0.2     0.0\n",
            "9                4.9               3.1  ...               0.1     0.0\n",
            "\n",
            "[10 rows x 5 columns]\n"
          ],
          "name": "stdout"
        }
      ]
    },
    {
      "cell_type": "code",
      "metadata": {
        "id": "dqKtM12ZWFYj",
        "colab_type": "code",
        "colab": {}
      },
      "source": [
        "#transform data into array format\n",
        "x = df_iris.iloc[:, :-1].values #input data\n",
        "y = df_iris.iloc[:, 4].values #output data"
      ],
      "execution_count": 0,
      "outputs": []
    },
    {
      "cell_type": "code",
      "metadata": {
        "id": "Qf-eSWD9WL_m",
        "colab_type": "code",
        "colab": {}
      },
      "source": [
        "#split train - test dataset\n",
        "from sklearn.model_selection import train_test_split \n",
        "#splitting and setting 20% data as a test\n",
        "X_train, X_test, y_train, y_test = train_test_split(x,y, test_size=0.20) "
      ],
      "execution_count": 0,
      "outputs": []
    },
    {
      "cell_type": "code",
      "metadata": {
        "id": "qRXb6vShWOGi",
        "colab_type": "code",
        "colab": {}
      },
      "source": [
        "#applying data normalization\n",
        "from sklearn.preprocessing import StandardScaler\n",
        "scaler = StandardScaler() \n",
        "scaler.fit(X_train)\n",
        "\n",
        "X_train = scaler.transform(X_train)\n",
        "X_test = scaler.transform(X_test)"
      ],
      "execution_count": 0,
      "outputs": []
    },
    {
      "cell_type": "code",
      "metadata": {
        "id": "W1nfWBtDWQPa",
        "colab_type": "code",
        "colab": {}
      },
      "source": [
        "from sklearn.svm import SVC"
      ],
      "execution_count": 0,
      "outputs": []
    },
    {
      "cell_type": "code",
      "metadata": {
        "id": "zArANqzUWcsr",
        "colab_type": "code",
        "colab": {}
      },
      "source": [
        "clf = SVC(gamma='auto') #setting Linear Kernel"
      ],
      "execution_count": 0,
      "outputs": []
    },
    {
      "cell_type": "code",
      "metadata": {
        "id": "az_AZiJmWktq",
        "colab_type": "code",
        "colab": {
          "base_uri": "https://localhost:8080/",
          "height": 84
        },
        "outputId": "ec2e7376-ca81-47c3-9901-408383058a56"
      },
      "source": [
        "clf.fit(X_train,y_train)"
      ],
      "execution_count": 10,
      "outputs": [
        {
          "output_type": "execute_result",
          "data": {
            "text/plain": [
              "SVC(C=1.0, break_ties=False, cache_size=200, class_weight=None, coef0=0.0,\n",
              "    decision_function_shape='ovr', degree=3, gamma='auto', kernel='rbf',\n",
              "    max_iter=-1, probability=False, random_state=None, shrinking=True,\n",
              "    tol=0.001, verbose=False)"
            ]
          },
          "metadata": {
            "tags": []
          },
          "execution_count": 10
        }
      ]
    },
    {
      "cell_type": "code",
      "metadata": {
        "id": "biOId0-tWohS",
        "colab_type": "code",
        "colab": {}
      },
      "source": [
        "#making prediction\n",
        "y_pred = clf.predict(X_test)"
      ],
      "execution_count": 0,
      "outputs": []
    },
    {
      "cell_type": "code",
      "metadata": {
        "id": "z54iyCriWv1Z",
        "colab_type": "code",
        "colab": {
          "base_uri": "https://localhost:8080/",
          "height": 235
        },
        "outputId": "bb93cb93-70b2-4318-e2c9-a752e4e4246f"
      },
      "source": [
        "#assessing the model\n",
        "\n",
        "#building confusion matrix \n",
        "from sklearn.metrics import classification_report, confusion_matrix\n",
        "print(confusion_matrix(y_test, y_pred))\n",
        "print(classification_report(y_test, y_pred))"
      ],
      "execution_count": 12,
      "outputs": [
        {
          "output_type": "stream",
          "text": [
            "[[10  0  0]\n",
            " [ 0  8  0]\n",
            " [ 0  0 12]]\n",
            "              precision    recall  f1-score   support\n",
            "\n",
            "         0.0       1.00      1.00      1.00        10\n",
            "         1.0       1.00      1.00      1.00         8\n",
            "         2.0       1.00      1.00      1.00        12\n",
            "\n",
            "    accuracy                           1.00        30\n",
            "   macro avg       1.00      1.00      1.00        30\n",
            "weighted avg       1.00      1.00      1.00        30\n",
            "\n"
          ],
          "name": "stdout"
        }
      ]
    },
    {
      "cell_type": "code",
      "metadata": {
        "id": "Wfp-Um6vW25a",
        "colab_type": "code",
        "colab": {
          "base_uri": "https://localhost:8080/",
          "height": 279
        },
        "outputId": "de648c06-76df-4401-f02a-df795bae3e9d"
      },
      "source": [
        "# analysing the model\n",
        "#lets plot confusion matrix\n",
        "matrix = confusion_matrix(y_test, y_pred)\n",
        "from mlxtend.plotting import plot_confusion_matrix\n",
        "fig, ax = plot_confusion_matrix(conf_mat=matrix)\n",
        "pl.savefig('SVMConfusionMatrix.png')\n",
        "pl.show()"
      ],
      "execution_count": 13,
      "outputs": [
        {
          "output_type": "display_data",
          "data": {
            "image/png": "[encoded data removed]",
            "text/plain": [
              "<Figure size 432x288 with 1 Axes>"
            ]
          },
          "metadata": {
            "tags": [],
            "needs_background": "light"
          }
        }
      ]
    },
    {
      "cell_type": "code",
      "metadata": {
        "id": "2LVrDQ2qW7wB",
        "colab_type": "code",
        "colab": {}
      },
      "source": [
        ""
      ],
      "execution_count": 0,
      "outputs": []
    }
  ]
}